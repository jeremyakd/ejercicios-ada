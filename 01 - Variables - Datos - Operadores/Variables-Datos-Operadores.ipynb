{
 "cells": [
  {
   "cell_type": "markdown",
   "metadata": {},
   "source": [
    "# Ejercicios\n",
    "### Se pueden resolver desde herramienta online o desde la Terminal/Consola Python. Recomendación: utilizar Python 3.10"
   ]
  },
  {
   "cell_type": "markdown",
   "metadata": {},
   "source": [
    "**Saludo**\n",
    "\n",
    "Crear un programa que pida al usuario ingresar un nombre y apellido por separado, y luego muestre un mensaje que diga, \"Hola {nombre} {apellido}, bienvenida a Ada\".\n"
   ]
  },
  {
   "cell_type": "code",
   "execution_count": 1,
   "metadata": {},
   "outputs": [
    {
     "name": "stdout",
     "output_type": "stream",
     "text": [
      "ingrese nombre por favor.Jeremias\n",
      "ingrese apellido por favor.Caceres\n",
      "Hola  Jeremias Caceres Bienvenido a ADA.\n"
     ]
    }
   ],
   "source": [
    "# your code is here\n",
    "nombre = input(\"ingrese nombre por favor.\")\n",
    "apellido = input(\"ingrese apellido por favor.\")\n",
    "print(\"Hola \", nombre, apellido, \"Bienvenido a ADA.\")"
   ]
  },
  {
   "cell_type": "markdown",
   "metadata": {},
   "source": [
    "**Heladería**\n",
    "\n",
    "Crear un programa que pida al usuario ingresar, por separado, tres gustos de helado, y luego muestre un mensaje que diga, por ejemplo, \"Aquí tiene su helado de chocolate, dulce de leche y menta granizada\".\n"
   ]
  },
  {
   "cell_type": "code",
   "execution_count": 2,
   "metadata": {},
   "outputs": [
    {
     "name": "stdout",
     "output_type": "stream",
     "text": [
      "bienveno a heladeria SEBAS, ingrese su primer gusto de heladochoco\n",
      "ingrese segundo gusto por favor.frutilla\n",
      "ingrese tercer gusto por favor.menta\n",
      "Aquí tiene su helado de  choco frutilla menta\n"
     ]
    }
   ],
   "source": [
    "# your code is here\n",
    "gusto1 = input(\"bienveno a heladeria SEBAS, ingrese su primer gusto de helado\")\n",
    "gusto2 = input(\"ingrese segundo gusto por favor.\")\n",
    "gusto3 = input(\"ingrese tercer gusto por favor.\")\n",
    "\n",
    "print(\"Aquí tiene su helado de \", gusto1, gusto2, gusto3)"
   ]
  },
  {
   "cell_type": "markdown",
   "metadata": {},
   "source": [
    "**Datos personales**\n",
    "\n",
    "Crear un programa que pida al usuario ingresar, por separado, nombre, apellido, edad, nacionalidad, documento, y muestre luego un mensaje que diga: \"Nuevo usuario agregado al sistema:\" y liste todos los datos juntos.\n"
   ]
  },
  {
   "cell_type": "code",
   "execution_count": 2,
   "metadata": {},
   "outputs": [
    {
     "name": "stdout",
     "output_type": "stream",
     "text": [
      "Para crear un nuevo usuario ,por favor ingresar los siguientes datos\n",
      "NOMBREJeremias\n",
      "APELLIDOCaceres\n",
      "EDAD25\n",
      "NACIONALIDADNew Zeland\n",
      "DOCUMENTO22334455\n",
      "Datos ingresados correctamente Jeremias Caceres 25 New Zeland 22334455 Nuevo usuario agregado al sistema , felicidades!!\n"
     ]
    }
   ],
   "source": [
    "# your code is here\n",
    "print (\"Para crear un nuevo usuario ,por favor ingresar los siguientes datos\")\n",
    "Nombre = input(\"NOMBRE\")\n",
    "Apellido = input (\"APELLIDO\")\n",
    "Edad = input (\"EDAD\")\n",
    "Nacionalidad = input (\"NACIONALIDAD\")\n",
    "Documento = input (\"DOCUMENTO\")\n",
    "\n",
    "print (\"Datos ingresados correctamente\" , Nombre , Apellido , Edad , Nacionalidad\n",
    "      , Documento , \"Nuevo usuario agregado al sistema , felicidades!!\")\n",
    "\n"
   ]
  },
  {
   "cell_type": "markdown",
   "metadata": {},
   "source": [
    "**Lista de reproducción**\n",
    "\n",
    "Crear un programa que pida al usuario ingresar, por separado, el nombre de una playlist y el título de tres canciones, y al finalizar se muestre un mensaje que diga, p. ej.: \"Se ha creado la playlist 'Hits de los 80s' con las canciones 'Africa', 'Maniac', 'Final Countdown'\".\n"
   ]
  },
  {
   "cell_type": "code",
   "execution_count": 21,
   "metadata": {},
   "outputs": [
    {
     "name": "stdout",
     "output_type": "stream",
     "text": [
      "Elija un nombre para su nueva playlist!\n",
      "pepe\n",
      "Genial ,tu Playlist se llamara  ' a ' Ahora elije almenos 3 canciones para agregarle\n",
      "Primera cancionpepep1\n",
      "Segunda cancionpepepe12\n",
      "tercera cancionpepepe3\n",
      "Se ah creado con exito la playlist  ' pepe ' con las canciones ' pepep1 ' ' pepepe12 ' ' pepepe3 ' hora de disfrutar!!\n"
     ]
    }
   ],
   "source": [
    "# your code is here\n",
    "\n",
    "print (\"Elija un nombre para su nueva playlist!\")\n",
    "\n",
    "playlist = input()\n",
    "\n",
    "print (\"Genial ,tu Playlist se llamara \", \"'\", Playlist ,\"'\" , \n",
    "       \"Ahora elije almenos 3 canciones para agregarle\")\n",
    "\n",
    "canciones1 = input (\"Primera cancion\")\n",
    "canciones2 = input (\"Segunda cancion\")\n",
    "canciones3 = input (\"tercera cancion\")\n",
    "\n",
    "print (\"Se ah creado con exito la playlist \",\"'\",playlist,\"'\" , \n",
    "       \"con las canciones\",\n",
    "       \"'\", canciones1 , \"'\" ,\n",
    "       \"'\", canciones2 , \"'\" ,\n",
    "       \"'\", canciones3 , \"'\" ,\n",
    "       \"hora de disfrutar!!\")"
   ]
  },
  {
   "cell_type": "markdown",
   "metadata": {},
   "source": [
    "**Dirección completa**\n",
    "\n",
    "Crear un programa que pida al usuario ingresar, por separado, la calle, el número, el departamento, el código postal, la ciudad y el país, y muestre un mensaje con toda la dirección completa, p.ej.: \"La dirección que ha ingresado es: Calle Falsa 123 3C, 1414, CABA, Argentina\".\n"
   ]
  },
  {
   "cell_type": "code",
   "execution_count": 22,
   "metadata": {},
   "outputs": [
    {
     "name": "stdout",
     "output_type": "stream",
     "text": [
      "Porfavor ingrese los datos de su vivienda\n",
      "Callefake\n",
      "Numero222\n",
      "Departamento4\n",
      "Codigo postal1234\n",
      "CiudadCABA\n",
      "PaisArg\n",
      "Los datos de su vivienda son : fake 222 , 4 , 1234 , CABA , Arg\n"
     ]
    }
   ],
   "source": [
    "# your code is here\n",
    "print (\"Porfavor ingrese los datos de su vivienda\")\n",
    "\n",
    "calle = input(\"Calle\")\n",
    "\n",
    "numero= input (\"Numero\")\n",
    "\n",
    "depa = input (\"Departamento\")\n",
    "\n",
    "postal = input (\"Codigo postal\")\n",
    "\n",
    "ciudad = input (\"Ciudad\")\n",
    "\n",
    "pais = input (\"Pais\")\n",
    "\n",
    "print (\"Los datos de su vivienda son :\" , calle , numero, \",\", depa ,\",\", postal ,\",\", ciudad,\",\" , pais)\n"
   ]
  },
  {
   "cell_type": "markdown",
   "metadata": {},
   "source": [
    "**Años perro**\n",
    "\n",
    "Crear un programa que pida ingresar una edad y devuelva el equivalente de esas edad en años perro.\n"
   ]
  },
  {
   "cell_type": "code",
   "execution_count": 15,
   "metadata": {},
   "outputs": [
    {
     "name": "stdout",
     "output_type": "stream",
     "text": [
      "CALCULADORA DE AÑOS PERRUNOS\n",
      "Tus años7\n",
      "Tu perro tiene aproximadamente 49\n"
     ]
    }
   ],
   "source": [
    "# your code is here\n",
    "\n",
    "print (\"CALCULADORA DE AÑOS PERRUNOS\")\n",
    "\n",
    "humano = input(\"Tus años\")\n",
    "\n",
    "perro = 7\n",
    "print (\"Tu perro tiene aproximadamente\" , (int(humano) * perro))\n",
    "\n"
   ]
  },
  {
   "cell_type": "markdown",
   "metadata": {},
   "source": [
    "**Minutos a segundos**\n",
    "\n",
    "Crear un programa que pida ingresar una cantidad en minutos mediante un y muestre un mensaje con el resultado de la conversión en segundos.\n"
   ]
  },
  {
   "cell_type": "code",
   "execution_count": 27,
   "metadata": {},
   "outputs": [
    {
     "name": "stdout",
     "output_type": "stream",
     "text": [
      "CONVERSOR DE MINS A SEG\n",
      "minutos1\n",
      "1 minutos es igual a 60 segundos\n"
     ]
    }
   ],
   "source": [
    "# your code is here\n",
    "\n",
    "print (\"CONVERSOR DE MINS A SEG\")\n",
    "\n",
    "mins = input (\"minutos\")\n",
    "\n",
    "segundos = 60\n",
    "\n",
    "print (mins , \"minutos es igual a\", (int(mins) * segundos),\"segundos\")\n"
   ]
  },
  {
   "cell_type": "markdown",
   "metadata": {},
   "source": [
    "**Días a segundos**\n",
    "\n",
    "Crear un programa que pida ingresar una cantidad de días y muestre un mensaje con el resultado de la conversión en segundos.\n"
   ]
  },
  {
   "cell_type": "code",
   "execution_count": 24,
   "metadata": {},
   "outputs": [
    {
     "name": "stdout",
     "output_type": "stream",
     "text": [
      "CONVERSOR DE DIAS A SEG\n",
      "dias1\n",
      "1  dias es igual a 86400 segundos\n"
     ]
    }
   ],
   "source": [
    "# your code is here\n",
    "print (\"CONVERSOR DE DIAS A SEG\")\n",
    "\n",
    "dias = input (\"dias\")\n",
    "\n",
    "segundos = 86400\n",
    "\n",
    "print (dias , \" dias es igual a\", (int(dias) * segundos),\"segundos\")\n",
    "\n"
   ]
  },
  {
   "cell_type": "markdown",
   "metadata": {},
   "source": [
    "**Kilómetros a millas**\n",
    "\n",
    "Crear un programa que pida ingresar una cantidad de kilómetros y muestre un mensaje con el resultado de la conversión en millas.\n"
   ]
  },
  {
   "cell_type": "code",
   "execution_count": 25,
   "metadata": {},
   "outputs": [
    {
     "name": "stdout",
     "output_type": "stream",
     "text": [
      "CONVERSOR DE KILOMETROS A MILLAS\n",
      "kilometros1\n",
      "1 km es igual a 0.621371 millas\n"
     ]
    }
   ],
   "source": [
    "# your code is here\n",
    "print (\"CONVERSOR DE KILOMETROS A MILLAS\")\n",
    "\n",
    "km = input (\"kilometros\")\n",
    "\n",
    "milla = 0.621371\n",
    "\n",
    "print (km, \"km es igual a\", (int(km) * milla),\"millas\")\n",
    "\n"
   ]
  },
  {
   "cell_type": "markdown",
   "metadata": {},
   "source": [
    "**Área de un triangulo**\n",
    "\n",
    "Crear un programa que pida al usuario ingresar el valor de la base y el valor de la altura de un triangulo, calcular su área y mostrarlo en un mensaje.\n"
   ]
  },
  {
   "cell_type": "code",
   "execution_count": 9,
   "metadata": {},
   "outputs": [
    {
     "name": "stdout",
     "output_type": "stream",
     "text": [
      "CALCULADORA DE AREAS DE TRIANGULO\n",
      "base14\n",
      "altura17\n",
      "el area del triangulo es  119.0\n"
     ]
    }
   ],
   "source": [
    "# your code is here\n",
    "print (\"CALCULADORA DE AREAS DE TRIANGULO\")\n",
    "\n",
    "base = input(\"base\")\n",
    "\n",
    "altura = input(\"altura\")\n",
    "\n",
    "a2 = 2\n",
    "\n",
    "print (\"el area del triangulo es \",(int(base) * int(altura)) / int(a2) )\n"
   ]
  },
  {
   "cell_type": "markdown",
   "metadata": {},
   "source": [
    "**Perímetro de un rectángulo**\n",
    "\n",
    "Crear un programa que pida al usuario ingresar el valor de la altura y el valor del ancho de un rectángulo, calcular su perímetro y mostrarlo en un mensaje.\n"
   ]
  },
  {
   "cell_type": "code",
   "execution_count": 12,
   "metadata": {},
   "outputs": [
    {
     "name": "stdout",
     "output_type": "stream",
     "text": [
      "CALCULADORA DE PERIMETRO DE RECTANGULO\n",
      "base1\n",
      "altura2\n",
      "el perimetro del rectangulo es  6\n"
     ]
    }
   ],
   "source": [
    "# your code is here\n",
    "print (\"CALCULADORA DE PERIMETRO DE RECTANGULO\")\n",
    "\n",
    "b = input(\"base\")\n",
    "\n",
    "h = input(\"altura\")\n",
    "\n",
    "a2 = 2\n",
    "\n",
    "print (\"el perimetro del rectangulo es \",(int(b) + int(h)) * int(a2) )\n"
   ]
  },
  {
   "cell_type": "markdown",
   "metadata": {},
   "source": [
    "**Porcentaje**\n",
    "\n",
    "Crear un programa que pida al usuario ingresar un número, y luego el porcentaje que se desea obtener del mismo. Devolver un mensaje muestre el porcentaje de dicho número.\n"
   ]
  },
  {
   "cell_type": "code",
   "execution_count": 1,
   "metadata": {},
   "outputs": [
    {
     "name": "stdout",
     "output_type": "stream",
     "text": [
      "CALCULADORA DE PORCENTAJE\n",
      "Numero20\n",
      "porcentaje10\n",
      "el 10 porciento de 20 es 2.0\n"
     ]
    }
   ],
   "source": [
    "# your code is here\n",
    "print (\"CALCULADORA DE PORCENTAJE\")\n",
    "\n",
    "num = input(\"Numero\")\n",
    "\n",
    "porciento =  input(\"porcentaje\")\n",
    "\n",
    "a100 = 100\n",
    "\n",
    "print (\"el\", porciento , \"porciento de\" , num ,\"es\" , (int(num) * int(porciento)) / int(a100) )\n"
   ]
  },
  {
   "cell_type": "markdown",
   "metadata": {},
   "source": [
    "**Tiempo de viaje**\n",
    "\n",
    "Crear un programa que pida al usuario la distancia de su recorrido y mostrar en un mensaje cuánto tiempo tardaría en completar el recorrido en distintos medios de transporte, definiendo de antemano distintas velocidades para distintos medios de transporte (p. ej.: a pie: 5 km/hora, bici 10km/hora, etc.).\n"
   ]
  },
  {
   "cell_type": "code",
   "execution_count": null,
   "metadata": {},
   "outputs": [],
   "source": [
    "# your code is here"
   ]
  },
  {
   "cell_type": "markdown",
   "metadata": {},
   "source": [
    "**Duración vuelo**\n",
    "\n",
    "Crear un programa que pida al usuario ingresar, por separado, 3 destinos de las escalas de un vuelo, y la duración de cada uno de ellos. Al final debe mostrar un mensaje que liste todas las escalas con su duración y la duración total del vuelo.\n"
   ]
  },
  {
   "cell_type": "code",
   "execution_count": null,
   "metadata": {},
   "outputs": [],
   "source": [
    "# your code is here"
   ]
  },
  {
   "cell_type": "markdown",
   "metadata": {},
   "source": [
    "**Incremento**\n",
    "\n",
    "Crear un programa que pida ingresar una número de partida y una cantidad a ir incrementando y mostrar cinco mensajes seguidos que muestren el número del mensaje y el total incrementado hasta el momento (p. ej.: empezando con 5 e incrementando 5, \"Incremento 1) Total: 10\", \"Incremento 2) Total: 15\", \"Incremento 3) Total: 20\", etc.).\n"
   ]
  },
  {
   "cell_type": "code",
   "execution_count": null,
   "metadata": {},
   "outputs": [],
   "source": [
    "# your code is here"
   ]
  },
  {
   "cell_type": "markdown",
   "metadata": {},
   "source": [
    "**Celsius a Fahrenheit**\n",
    "\n",
    "Crear un programa que pida ingresar una cantidad de grados Celsius y muestre un mensaje con el resultado de la conversión a grados Fahrenheit.\n"
   ]
  },
  {
   "cell_type": "code",
   "execution_count": null,
   "metadata": {},
   "outputs": [],
   "source": [
    "# your code is here"
   ]
  },
  {
   "cell_type": "markdown",
   "metadata": {},
   "source": [
    "**Múltiplos**\n",
    "\n",
    "Crear un programa que pida al usuario un número, luego otro y mostrar en un mensaje si el primer valor es múltiplo del segundo. INVESTIGAR EL OPERADOR MÓDULO O DE RESTO % PARA HACERLO\n"
   ]
  },
  {
   "cell_type": "code",
   "execution_count": null,
   "metadata": {},
   "outputs": [],
   "source": [
    "# your code is here"
   ]
  },
  {
   "cell_type": "markdown",
   "metadata": {},
   "source": [
    "**Segundos a horas, minutos y segundos**\n",
    "\n",
    "Crear un programa que pida ingresar una cantidad en segundos y muestre un mensaje con el resultado de la conversión en horas, minutos y segundos que corresponde a esa cantidad (p.ej. 3602 segundos = 1 hora 2 segundos). (Usar operador módulo)\n"
   ]
  },
  {
   "cell_type": "code",
   "execution_count": null,
   "metadata": {},
   "outputs": [],
   "source": [
    "# your code is here"
   ]
  },
  {
   "cell_type": "markdown",
   "metadata": {},
   "source": [
    "**Cantidad de caracteres**\n",
    "\n",
    "Crear un programa que pida al usuario ingresar un texto y muestre un mensaje con la cantidad de caracteres que tiene ese texto. INVESTIGAR CÓMO HACERLO\n"
   ]
  },
  {
   "cell_type": "code",
   "execution_count": null,
   "metadata": {},
   "outputs": [],
   "source": [
    "# your code is here"
   ]
  },
  {
   "cell_type": "markdown",
   "metadata": {},
   "source": [
    "**Cantidad de huéspedes**\n",
    "\n",
    "Crear un programa que pida al usuario ingresar, de a uno por vez, cuántas habitaciones tiene un hotel para 2, 3 y 4 personas, y muestre el máximo de huéspedes que puede albergar.\n"
   ]
  },
  {
   "cell_type": "code",
   "execution_count": null,
   "metadata": {},
   "outputs": [],
   "source": [
    "# your code is here"
   ]
  },
  {
   "cell_type": "markdown",
   "metadata": {},
   "source": [
    "**Calculador gastos**\n",
    "\n",
    "Crear un programa que pida al usuario cuanto dinero disponible tiene, y vaya preguntando cuánto tiene que pagar por cada servicio, pidiendo el nombre del servicio y el monto a pagar, uno a la vez. Cada vez que pide ingresar un nuevo servicio, el mensaje debe mostrar cuántos servicios quedan por ingresar, utilizando una variable, y mostrar cuánto dinero disponible queda. Al final debe mostrar una lista con todos los servicios a pagar y el monto de cada uno, además del dinero disponible que le queda. Hacerlo con 3 servicios.\n"
   ]
  },
  {
   "cell_type": "code",
   "execution_count": null,
   "metadata": {},
   "outputs": [],
   "source": [
    "# your code is here"
   ]
  },
  {
   "cell_type": "markdown",
   "metadata": {},
   "source": [
    "**Orden de compras**\n",
    "\n",
    "Crear un programa que tome la orden de compra de un local. Pedir al usuario que ingrese la cantidad que desea comprar de tres productos distintos, uno por uno, mostrar el valor total de la compra y preguntar en cuántas cuotas desea realizar el pago. Mostrar un mensaje final con el detalle y el valor total la compra, cantidad de cuotas y valor de cada una de las cuotas. Los precios de los productos deben estar definidos de antemano en variables."
   ]
  },
  {
   "cell_type": "code",
   "execution_count": null,
   "metadata": {},
   "outputs": [],
   "source": [
    "# your code is here"
   ]
  },
  {
   "cell_type": "code",
   "execution_count": 3,
   "metadata": {},
   "outputs": [
    {
     "name": "stdout",
     "output_type": "stream",
     "text": [
      "Ingrese edad por favor. 12\n",
      "es menor\n"
     ]
    }
   ],
   "source": [
    "edad = int(input(\"Ingrese edad por favor. \"))\n",
    "\n",
    "if edad >= 100:\n",
    "    print(\"Dead\")\n",
    "elif edad >= 18:\n",
    "    print(\"es mayor\")\n",
    "else:\n",
    "    print(\"es menor\")"
   ]
  }
 ],
 "metadata": {
  "kernelspec": {
   "display_name": "Python 3 (ipykernel)",
   "language": "python",
   "name": "python3"
  },
  "language_info": {
   "codemirror_mode": {
    "name": "ipython",
    "version": 3
   },
   "file_extension": ".py",
   "mimetype": "text/x-python",
   "name": "python",
   "nbconvert_exporter": "python",
   "pygments_lexer": "ipython3",
   "version": "3.9.2"
  },
  "vscode": {
   "interpreter": {
    "hash": "916dbcbb3f70747c44a77c7bcd40155683ae19c65e1c03b4aa3499c5328201f1"
   }
  }
 },
 "nbformat": 4,
 "nbformat_minor": 2
}
